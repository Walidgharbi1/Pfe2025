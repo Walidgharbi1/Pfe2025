{
 "cells": [
  {
   "cell_type": "code",
   "execution_count": 6,
   "metadata": {},
   "outputs": [],
   "source": [
    "# backend/utils.py\n",
    "from collections import Counter\n",
    "from nltk.tokenize import word_tokenize\n",
    "import fitz  # PyMuPDF\n",
    "from sklearn.feature_extraction.text import TfidfVectorizer\n",
    "from sklearn.metrics.pairwise import cosine_similarity\n",
    "import pandas as pd\n",
    "import numpy as np\n",
    "\n",
    "# Fonction pour extraire le texte d'un fichier PDF\n",
    "def extract_text_from_pdf(pdf_path):\n",
    "    text = \"\"\n",
    "    with fitz.open(pdf_path) as pdf_document:\n",
    "        for page_num in range(len(pdf_document)):\n",
    "            page = pdf_document.load_page(page_num)\n",
    "            text += page.get_text()\n",
    "    return text\n",
    "\n",
    "# Fonction pour extraire les langages utilisés et les compétences à partir du texte du CV\n",
    "def extract_languages_and_skills(cv_text):\n",
    "    domain_keywords = {\n",
    "        \"skills\": [\"compétences\", \"techniques\"],\n",
    "        \"certificates\": [\"certifications\", \"certificats\"],\n",
    "        \"projects\": [\"personal\", \"projects\"]  # Correction : \"projects\" au lieu de \"PROJETS\"\n",
    "    }\n",
    "    domain_info = {domain: {\"languages\": [], \"skills\": []} for domain in domain_keywords}\n",
    "    tokens = word_tokenize(cv_text.lower())\n",
    "    current_domain = \"\"\n",
    "    for token in tokens:\n",
    "        for domain, keywords in domain_keywords.items():\n",
    "            if any(keyword in token for keyword in keywords):\n",
    "                current_domain = domain\n",
    "                break\n",
    "        if current_domain != \"\":\n",
    "            if token.isalpha():\n",
    "                if token in [\"html\", \"css\", \"php\", \"javascript\", \"java\", \"python\", \"c\", \"c++\", \"matlab\"]:\n",
    "                    domain_info[current_domain][\"languages\"].append(token)\n",
    "                else:\n",
    "                    domain_info[current_domain][\"skills\"].append(token)\n",
    "        elif token in [\":\", \"-\", \"—\"]:\n",
    "            current_domain = \"\"\n",
    "    return domain_info\n",
    "\n",
    "# Fonction pour extraire les compétences du CV\n",
    "def extract_skills(cv_info):\n",
    "    skills = []\n",
    "    for domain, info in cv_info.items():\n",
    "        skills.extend(info[\"skills\"])\n",
    "    return skills\n",
    "\n",
    "# Fonction pour générer les questions pertinentes pour les compétences du CV\n",
    "def generate_questions(cv_pdf_file, question_database_file, threshold=0.4):\n",
    "    # Chargement du texte extrait du PDF\n",
    "    pdf_text = extract_text_from_pdf(cv_pdf_file)\n",
    "    # Extraction des langages utilisés et des compétences dans chaque domaine du CV\n",
    "    cv_info = extract_languages_and_skills(pdf_text)\n",
    "    # Suppression des doublons et conversion en liste\n",
    "    question_database = pd.read_csv(question_database_file)\n",
    "    questions_corpus = list(set(question_database[\"Question\"]))\n",
    "    # Création de la matrice TF-IDF\n",
    "    vectorizer = TfidfVectorizer()\n",
    "    questions_tfidf = vectorizer.fit_transform(questions_corpus)\n",
    "    # Extraction des compétences\n",
    "    skills = extract_skills(cv_info)\n",
    "    skills_tfidf = vectorizer.transform(skills)\n",
    "    # Calcul de la similarité cosinus entre les compétences et les questions\n",
    "    similarity_scores = cosine_similarity(skills_tfidf, questions_tfidf)\n",
    "    # Sélection des questions les plus pertinentes (avec une similarité élevée)\n",
    "    relevant_questions_indices = np.where(similarity_scores > threshold)[1]\n",
    "    relevant_questions = [questions_corpus[i] for i in relevant_questions_indices]\n",
    "    return relevant_questions\n"
   ]
  },
  {
   "cell_type": "code",
   "execution_count": 7,
   "metadata": {},
   "outputs": [
    {
     "name": "stdout",
     "output_type": "stream",
     "text": [
      " * Serving Flask app '__main__'\n",
      " * Debug mode: on\n"
     ]
    },
    {
     "name": "stderr",
     "output_type": "stream",
     "text": [
      "WARNING: This is a development server. Do not use it in a production deployment. Use a production WSGI server instead.\n",
      " * Running on http://127.0.0.1:5000\n",
      "Press CTRL+C to quit\n",
      " * Restarting with stat\n"
     ]
    },
    {
     "ename": "SystemExit",
     "evalue": "1",
     "output_type": "error",
     "traceback": [
      "An exception has occurred, use %tb to see the full traceback.\n",
      "\u001b[1;31mSystemExit\u001b[0m\u001b[1;31m:\u001b[0m 1\n"
     ]
    },
    {
     "name": "stderr",
     "output_type": "stream",
     "text": [
      "C:\\Users\\ASUS\\AppData\\Roaming\\Python\\Python311\\site-packages\\IPython\\core\\interactiveshell.py:3534: UserWarning: To exit: use 'exit', 'quit', or Ctrl-D.\n",
      "  warn(\"To exit: use 'exit', 'quit', or Ctrl-D.\", stacklevel=1)\n"
     ]
    }
   ],
   "source": [
    "from flask import Flask, request, jsonify\n",
    "from flask_cors import CORS\n",
    " # Importez la fonction generate_questions depuis utils.py\n",
    "\n",
    "app = Flask(__name__)\n",
    "CORS(app)\n",
    "\n",
    "@app.route(\"/generate_questions\", methods=[\"POST\"])\n",
    "def generate_questions_route():\n",
    "    # Assurez-vous d'envoyer le fichier PDF du CV dans le corps de la requête\n",
    "    if 'cv_pdf_file' not in request.files:\n",
    "        return 'No file part', 400\n",
    "    cv_pdf_file = request.files[\"cv_pdf_file\"]\n",
    "    if cv_pdf_file.filename == '':\n",
    "        return 'No selected file', 400\n",
    "\n",
    "    question_database_file = \"test_candidat_skills.csv\"\n",
    "    # Génération des questions pertinentes\n",
    "    relevant_questions = generate_questions(cv_pdf_file, question_database_file)\n",
    "    return jsonify(relevant_questions)\n",
    "\n",
    "if __name__ == \"__main__\":\n",
    "    app.run(debug=True, port=5000)  # Exécute l'application sur le port 8080\n"
   ]
  },
  {
   "cell_type": "code",
   "execution_count": null,
   "metadata": {},
   "outputs": [],
   "source": []
  }
 ],
 "metadata": {
  "kernelspec": {
   "display_name": "Python 3",
   "language": "python",
   "name": "python3"
  },
  "language_info": {
   "codemirror_mode": {
    "name": "ipython",
    "version": 3
   },
   "file_extension": ".py",
   "mimetype": "text/x-python",
   "name": "python",
   "nbconvert_exporter": "python",
   "pygments_lexer": "ipython3",
   "version": "3.11.5"
  }
 },
 "nbformat": 4,
 "nbformat_minor": 2
}
